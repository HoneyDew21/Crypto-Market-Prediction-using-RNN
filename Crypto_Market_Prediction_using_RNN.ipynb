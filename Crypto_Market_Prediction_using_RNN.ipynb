{
  "nbformat": 4,
  "nbformat_minor": 0,
  "metadata": {
    "colab": {
      "provenance": [],
      "gpuType": "T4",
      "include_colab_link": true
    },
    "kernelspec": {
      "name": "python3",
      "display_name": "Python 3"
    },
    "language_info": {
      "name": "python"
    },
    "accelerator": "GPU"
  },
  "cells": [
    {
      "cell_type": "markdown",
      "metadata": {
        "id": "view-in-github",
        "colab_type": "text"
      },
      "source": [
        "<a href=\"https://colab.research.google.com/github/HoneyDew21/Crypto-Market-Prediction-using-RNN/blob/main/Crypto_Market_Prediction_using_RNN.ipynb\" target=\"_parent\"><img src=\"https://colab.research.google.com/assets/colab-badge.svg\" alt=\"Open In Colab\"/></a>"
      ]
    },
    {
      "cell_type": "code",
      "source": [
        "import requests,pandas as pd,numpy as np,matplotlib.pyplot as plt\n",
        "from sklearn.preprocessing import MinMaxScaler\n",
        "from tensorflow.keras.layers import Dense, Dropout, LSTM\n",
        "from tensorflow.keras.models import Sequential"
      ],
      "metadata": {
        "id": "021FsWpTmo3o"
      },
      "execution_count": null,
      "outputs": []
    },
    {
      "cell_type": "code",
      "source": [
        "api_key= 'b9ed0c5164684339adc326ac89861d23'\n",
        "api_url='https://api.twelvedata.com/time_series?symbol=BTC/USD&start_date=2023-12-30&end_date=2024-01-15&interval=5min&apikey=demo'"
      ],
      "metadata": {
        "id": "bznqFxuKhkGX"
      },
      "execution_count": null,
      "outputs": []
    },
    {
      "cell_type": "code",
      "source": [
        "data = requests.get(api_url).json()\n",
        "data_final=pd.DataFrame(data['values'])\n",
        "data_final"
      ],
      "metadata": {
        "id": "68crBdXFnqjQ",
        "colab": {
          "base_uri": "https://localhost:8080/",
          "height": 423
        },
        "outputId": "208e30af-f47b-4f55-8c45-a5c93e8c1ef4"
      },
      "execution_count": null,
      "outputs": [
        {
          "output_type": "execute_result",
          "data": {
            "text/plain": [
              "                 datetime         open         high          low        close\n",
              "0     2024-01-15 00:00:00  41698.13000  41815.93000  41680.00000  41810.63000\n",
              "1     2024-01-14 23:55:00  41738.26000  41820.89000  41696.60000  41697.33000\n",
              "2     2024-01-14 23:50:00  41962.00000  41962.01000  41680.73000  41735.04000\n",
              "3     2024-01-14 23:45:00  41893.40000  41965.68000  41881.84000  41962.01000\n",
              "4     2024-01-14 23:40:00  41817.27000  41914.63000  41731.57000  41892.30000\n",
              "...                   ...          ...          ...          ...          ...\n",
              "4604  2023-12-30 00:20:00  42118.85000  42150.94000  42100.91000  42148.51000\n",
              "4605  2023-12-30 00:15:00  42098.44000  42154.87000  42075.50000  42116.40000\n",
              "4606  2023-12-30 00:10:00  42094.94000  42098.95000  42062.71000  42098.41000\n",
              "4607  2023-12-30 00:05:00  42050.50000  42094.94000  42033.20000  42094.94000\n",
              "4608  2023-12-30 00:00:00  42064.22000  42067.87000  41996.18000  42047.58000\n",
              "\n",
              "[4609 rows x 5 columns]"
            ],
            "text/html": [
              "\n",
              "  <div id=\"df-9eff98de-af50-488a-9376-fda357225663\" class=\"colab-df-container\">\n",
              "    <div>\n",
              "<style scoped>\n",
              "    .dataframe tbody tr th:only-of-type {\n",
              "        vertical-align: middle;\n",
              "    }\n",
              "\n",
              "    .dataframe tbody tr th {\n",
              "        vertical-align: top;\n",
              "    }\n",
              "\n",
              "    .dataframe thead th {\n",
              "        text-align: right;\n",
              "    }\n",
              "</style>\n",
              "<table border=\"1\" class=\"dataframe\">\n",
              "  <thead>\n",
              "    <tr style=\"text-align: right;\">\n",
              "      <th></th>\n",
              "      <th>datetime</th>\n",
              "      <th>open</th>\n",
              "      <th>high</th>\n",
              "      <th>low</th>\n",
              "      <th>close</th>\n",
              "    </tr>\n",
              "  </thead>\n",
              "  <tbody>\n",
              "    <tr>\n",
              "      <th>0</th>\n",
              "      <td>2024-01-15 00:00:00</td>\n",
              "      <td>41698.13000</td>\n",
              "      <td>41815.93000</td>\n",
              "      <td>41680.00000</td>\n",
              "      <td>41810.63000</td>\n",
              "    </tr>\n",
              "    <tr>\n",
              "      <th>1</th>\n",
              "      <td>2024-01-14 23:55:00</td>\n",
              "      <td>41738.26000</td>\n",
              "      <td>41820.89000</td>\n",
              "      <td>41696.60000</td>\n",
              "      <td>41697.33000</td>\n",
              "    </tr>\n",
              "    <tr>\n",
              "      <th>2</th>\n",
              "      <td>2024-01-14 23:50:00</td>\n",
              "      <td>41962.00000</td>\n",
              "      <td>41962.01000</td>\n",
              "      <td>41680.73000</td>\n",
              "      <td>41735.04000</td>\n",
              "    </tr>\n",
              "    <tr>\n",
              "      <th>3</th>\n",
              "      <td>2024-01-14 23:45:00</td>\n",
              "      <td>41893.40000</td>\n",
              "      <td>41965.68000</td>\n",
              "      <td>41881.84000</td>\n",
              "      <td>41962.01000</td>\n",
              "    </tr>\n",
              "    <tr>\n",
              "      <th>4</th>\n",
              "      <td>2024-01-14 23:40:00</td>\n",
              "      <td>41817.27000</td>\n",
              "      <td>41914.63000</td>\n",
              "      <td>41731.57000</td>\n",
              "      <td>41892.30000</td>\n",
              "    </tr>\n",
              "    <tr>\n",
              "      <th>...</th>\n",
              "      <td>...</td>\n",
              "      <td>...</td>\n",
              "      <td>...</td>\n",
              "      <td>...</td>\n",
              "      <td>...</td>\n",
              "    </tr>\n",
              "    <tr>\n",
              "      <th>4604</th>\n",
              "      <td>2023-12-30 00:20:00</td>\n",
              "      <td>42118.85000</td>\n",
              "      <td>42150.94000</td>\n",
              "      <td>42100.91000</td>\n",
              "      <td>42148.51000</td>\n",
              "    </tr>\n",
              "    <tr>\n",
              "      <th>4605</th>\n",
              "      <td>2023-12-30 00:15:00</td>\n",
              "      <td>42098.44000</td>\n",
              "      <td>42154.87000</td>\n",
              "      <td>42075.50000</td>\n",
              "      <td>42116.40000</td>\n",
              "    </tr>\n",
              "    <tr>\n",
              "      <th>4606</th>\n",
              "      <td>2023-12-30 00:10:00</td>\n",
              "      <td>42094.94000</td>\n",
              "      <td>42098.95000</td>\n",
              "      <td>42062.71000</td>\n",
              "      <td>42098.41000</td>\n",
              "    </tr>\n",
              "    <tr>\n",
              "      <th>4607</th>\n",
              "      <td>2023-12-30 00:05:00</td>\n",
              "      <td>42050.50000</td>\n",
              "      <td>42094.94000</td>\n",
              "      <td>42033.20000</td>\n",
              "      <td>42094.94000</td>\n",
              "    </tr>\n",
              "    <tr>\n",
              "      <th>4608</th>\n",
              "      <td>2023-12-30 00:00:00</td>\n",
              "      <td>42064.22000</td>\n",
              "      <td>42067.87000</td>\n",
              "      <td>41996.18000</td>\n",
              "      <td>42047.58000</td>\n",
              "    </tr>\n",
              "  </tbody>\n",
              "</table>\n",
              "<p>4609 rows × 5 columns</p>\n",
              "</div>\n",
              "    <div class=\"colab-df-buttons\">\n",
              "\n",
              "  <div class=\"colab-df-container\">\n",
              "    <button class=\"colab-df-convert\" onclick=\"convertToInteractive('df-9eff98de-af50-488a-9376-fda357225663')\"\n",
              "            title=\"Convert this dataframe to an interactive table.\"\n",
              "            style=\"display:none;\">\n",
              "\n",
              "  <svg xmlns=\"http://www.w3.org/2000/svg\" height=\"24px\" viewBox=\"0 -960 960 960\">\n",
              "    <path d=\"M120-120v-720h720v720H120Zm60-500h600v-160H180v160Zm220 220h160v-160H400v160Zm0 220h160v-160H400v160ZM180-400h160v-160H180v160Zm440 0h160v-160H620v160ZM180-180h160v-160H180v160Zm440 0h160v-160H620v160Z\"/>\n",
              "  </svg>\n",
              "    </button>\n",
              "\n",
              "  <style>\n",
              "    .colab-df-container {\n",
              "      display:flex;\n",
              "      gap: 12px;\n",
              "    }\n",
              "\n",
              "    .colab-df-convert {\n",
              "      background-color: #E8F0FE;\n",
              "      border: none;\n",
              "      border-radius: 50%;\n",
              "      cursor: pointer;\n",
              "      display: none;\n",
              "      fill: #1967D2;\n",
              "      height: 32px;\n",
              "      padding: 0 0 0 0;\n",
              "      width: 32px;\n",
              "    }\n",
              "\n",
              "    .colab-df-convert:hover {\n",
              "      background-color: #E2EBFA;\n",
              "      box-shadow: 0px 1px 2px rgba(60, 64, 67, 0.3), 0px 1px 3px 1px rgba(60, 64, 67, 0.15);\n",
              "      fill: #174EA6;\n",
              "    }\n",
              "\n",
              "    .colab-df-buttons div {\n",
              "      margin-bottom: 4px;\n",
              "    }\n",
              "\n",
              "    [theme=dark] .colab-df-convert {\n",
              "      background-color: #3B4455;\n",
              "      fill: #D2E3FC;\n",
              "    }\n",
              "\n",
              "    [theme=dark] .colab-df-convert:hover {\n",
              "      background-color: #434B5C;\n",
              "      box-shadow: 0px 1px 3px 1px rgba(0, 0, 0, 0.15);\n",
              "      filter: drop-shadow(0px 1px 2px rgba(0, 0, 0, 0.3));\n",
              "      fill: #FFFFFF;\n",
              "    }\n",
              "  </style>\n",
              "\n",
              "    <script>\n",
              "      const buttonEl =\n",
              "        document.querySelector('#df-9eff98de-af50-488a-9376-fda357225663 button.colab-df-convert');\n",
              "      buttonEl.style.display =\n",
              "        google.colab.kernel.accessAllowed ? 'block' : 'none';\n",
              "\n",
              "      async function convertToInteractive(key) {\n",
              "        const element = document.querySelector('#df-9eff98de-af50-488a-9376-fda357225663');\n",
              "        const dataTable =\n",
              "          await google.colab.kernel.invokeFunction('convertToInteractive',\n",
              "                                                    [key], {});\n",
              "        if (!dataTable) return;\n",
              "\n",
              "        const docLinkHtml = 'Like what you see? Visit the ' +\n",
              "          '<a target=\"_blank\" href=https://colab.research.google.com/notebooks/data_table.ipynb>data table notebook</a>'\n",
              "          + ' to learn more about interactive tables.';\n",
              "        element.innerHTML = '';\n",
              "        dataTable['output_type'] = 'display_data';\n",
              "        await google.colab.output.renderOutput(dataTable, element);\n",
              "        const docLink = document.createElement('div');\n",
              "        docLink.innerHTML = docLinkHtml;\n",
              "        element.appendChild(docLink);\n",
              "      }\n",
              "    </script>\n",
              "  </div>\n",
              "\n",
              "\n",
              "<div id=\"df-73af111b-a61c-4dff-a876-cbed2ad35f6b\">\n",
              "  <button class=\"colab-df-quickchart\" onclick=\"quickchart('df-73af111b-a61c-4dff-a876-cbed2ad35f6b')\"\n",
              "            title=\"Suggest charts\"\n",
              "            style=\"display:none;\">\n",
              "\n",
              "<svg xmlns=\"http://www.w3.org/2000/svg\" height=\"24px\"viewBox=\"0 0 24 24\"\n",
              "     width=\"24px\">\n",
              "    <g>\n",
              "        <path d=\"M19 3H5c-1.1 0-2 .9-2 2v14c0 1.1.9 2 2 2h14c1.1 0 2-.9 2-2V5c0-1.1-.9-2-2-2zM9 17H7v-7h2v7zm4 0h-2V7h2v10zm4 0h-2v-4h2v4z\"/>\n",
              "    </g>\n",
              "</svg>\n",
              "  </button>\n",
              "\n",
              "<style>\n",
              "  .colab-df-quickchart {\n",
              "      --bg-color: #E8F0FE;\n",
              "      --fill-color: #1967D2;\n",
              "      --hover-bg-color: #E2EBFA;\n",
              "      --hover-fill-color: #174EA6;\n",
              "      --disabled-fill-color: #AAA;\n",
              "      --disabled-bg-color: #DDD;\n",
              "  }\n",
              "\n",
              "  [theme=dark] .colab-df-quickchart {\n",
              "      --bg-color: #3B4455;\n",
              "      --fill-color: #D2E3FC;\n",
              "      --hover-bg-color: #434B5C;\n",
              "      --hover-fill-color: #FFFFFF;\n",
              "      --disabled-bg-color: #3B4455;\n",
              "      --disabled-fill-color: #666;\n",
              "  }\n",
              "\n",
              "  .colab-df-quickchart {\n",
              "    background-color: var(--bg-color);\n",
              "    border: none;\n",
              "    border-radius: 50%;\n",
              "    cursor: pointer;\n",
              "    display: none;\n",
              "    fill: var(--fill-color);\n",
              "    height: 32px;\n",
              "    padding: 0;\n",
              "    width: 32px;\n",
              "  }\n",
              "\n",
              "  .colab-df-quickchart:hover {\n",
              "    background-color: var(--hover-bg-color);\n",
              "    box-shadow: 0 1px 2px rgba(60, 64, 67, 0.3), 0 1px 3px 1px rgba(60, 64, 67, 0.15);\n",
              "    fill: var(--button-hover-fill-color);\n",
              "  }\n",
              "\n",
              "  .colab-df-quickchart-complete:disabled,\n",
              "  .colab-df-quickchart-complete:disabled:hover {\n",
              "    background-color: var(--disabled-bg-color);\n",
              "    fill: var(--disabled-fill-color);\n",
              "    box-shadow: none;\n",
              "  }\n",
              "\n",
              "  .colab-df-spinner {\n",
              "    border: 2px solid var(--fill-color);\n",
              "    border-color: transparent;\n",
              "    border-bottom-color: var(--fill-color);\n",
              "    animation:\n",
              "      spin 1s steps(1) infinite;\n",
              "  }\n",
              "\n",
              "  @keyframes spin {\n",
              "    0% {\n",
              "      border-color: transparent;\n",
              "      border-bottom-color: var(--fill-color);\n",
              "      border-left-color: var(--fill-color);\n",
              "    }\n",
              "    20% {\n",
              "      border-color: transparent;\n",
              "      border-left-color: var(--fill-color);\n",
              "      border-top-color: var(--fill-color);\n",
              "    }\n",
              "    30% {\n",
              "      border-color: transparent;\n",
              "      border-left-color: var(--fill-color);\n",
              "      border-top-color: var(--fill-color);\n",
              "      border-right-color: var(--fill-color);\n",
              "    }\n",
              "    40% {\n",
              "      border-color: transparent;\n",
              "      border-right-color: var(--fill-color);\n",
              "      border-top-color: var(--fill-color);\n",
              "    }\n",
              "    60% {\n",
              "      border-color: transparent;\n",
              "      border-right-color: var(--fill-color);\n",
              "    }\n",
              "    80% {\n",
              "      border-color: transparent;\n",
              "      border-right-color: var(--fill-color);\n",
              "      border-bottom-color: var(--fill-color);\n",
              "    }\n",
              "    90% {\n",
              "      border-color: transparent;\n",
              "      border-bottom-color: var(--fill-color);\n",
              "    }\n",
              "  }\n",
              "</style>\n",
              "\n",
              "  <script>\n",
              "    async function quickchart(key) {\n",
              "      const quickchartButtonEl =\n",
              "        document.querySelector('#' + key + ' button');\n",
              "      quickchartButtonEl.disabled = true;  // To prevent multiple clicks.\n",
              "      quickchartButtonEl.classList.add('colab-df-spinner');\n",
              "      try {\n",
              "        const charts = await google.colab.kernel.invokeFunction(\n",
              "            'suggestCharts', [key], {});\n",
              "      } catch (error) {\n",
              "        console.error('Error during call to suggestCharts:', error);\n",
              "      }\n",
              "      quickchartButtonEl.classList.remove('colab-df-spinner');\n",
              "      quickchartButtonEl.classList.add('colab-df-quickchart-complete');\n",
              "    }\n",
              "    (() => {\n",
              "      let quickchartButtonEl =\n",
              "        document.querySelector('#df-73af111b-a61c-4dff-a876-cbed2ad35f6b button');\n",
              "      quickchartButtonEl.style.display =\n",
              "        google.colab.kernel.accessAllowed ? 'block' : 'none';\n",
              "    })();\n",
              "  </script>\n",
              "</div>\n",
              "    </div>\n",
              "  </div>\n"
            ],
            "application/vnd.google.colaboratory.intrinsic+json": {
              "type": "dataframe",
              "variable_name": "data_final",
              "summary": "{\n  \"name\": \"data_final\",\n  \"rows\": 4609,\n  \"fields\": [\n    {\n      \"column\": \"datetime\",\n      \"properties\": {\n        \"dtype\": \"object\",\n        \"num_unique_values\": 4609,\n        \"samples\": [\n          \"2024-01-09 18:00:00\",\n          \"2023-12-30 06:00:00\",\n          \"2024-01-14 09:05:00\"\n        ],\n        \"semantic_type\": \"\",\n        \"description\": \"\"\n      }\n    },\n    {\n      \"column\": \"open\",\n      \"properties\": {\n        \"dtype\": \"string\",\n        \"num_unique_values\": 4580,\n        \"samples\": [\n          \"42431.62000\",\n          \"42400.90000\",\n          \"43688.96000\"\n        ],\n        \"semantic_type\": \"\",\n        \"description\": \"\"\n      }\n    },\n    {\n      \"column\": \"high\",\n      \"properties\": {\n        \"dtype\": \"string\",\n        \"num_unique_values\": 4532,\n        \"samples\": [\n          \"45874.77000\",\n          \"42165.65000\",\n          \"42929.86000\"\n        ],\n        \"semantic_type\": \"\",\n        \"description\": \"\"\n      }\n    },\n    {\n      \"column\": \"low\",\n      \"properties\": {\n        \"dtype\": \"string\",\n        \"num_unique_values\": 4534,\n        \"samples\": [\n          \"42634.88000\",\n          \"45966.72000\",\n          \"46585.87000\"\n        ],\n        \"semantic_type\": \"\",\n        \"description\": \"\"\n      }\n    },\n    {\n      \"column\": \"close\",\n      \"properties\": {\n        \"dtype\": \"string\",\n        \"num_unique_values\": 4576,\n        \"samples\": [\n          \"46804.14000\",\n          \"46727.35000\",\n          \"46705.50000\"\n        ],\n        \"semantic_type\": \"\",\n        \"description\": \"\"\n      }\n    }\n  ]\n}"
            }
          },
          "metadata": {},
          "execution_count": 3
        }
      ]
    },
    {
      "cell_type": "code",
      "source": [
        "scaler=MinMaxScaler(feature_range=(0,1))\n",
        "scaled_data = scaler.fit_transform(data_final['close'].values.reshape(-1,1))\n",
        "scaled_data"
      ],
      "metadata": {
        "id": "4lq29bxdq4DJ",
        "colab": {
          "base_uri": "https://localhost:8080/"
        },
        "outputId": "943b9e19-1362-410f-daab-df5bed4900e4"
      },
      "execution_count": null,
      "outputs": [
        {
          "output_type": "execute_result",
          "data": {
            "text/plain": [
              "array([[0.11224575],\n",
              "       [0.09829262],\n",
              "       [0.10293669],\n",
              "       ...,\n",
              "       [0.14768646],\n",
              "       [0.14725913],\n",
              "       [0.14142664]])"
            ]
          },
          "metadata": {},
          "execution_count": 4
        }
      ]
    },
    {
      "cell_type": "code",
      "source": [
        "time_intervals_to_train = 24\n",
        "prediction_interval = 12\n",
        "x_train = []\n",
        "y_train = []"
      ],
      "metadata": {
        "id": "zUNkv7x_sAoj"
      },
      "execution_count": null,
      "outputs": []
    },
    {
      "cell_type": "code",
      "source": [
        "for i in range(time_intervals_to_train, len(scaled_data) - prediction_interval):\n",
        "  x_train.append(scaled_data[i-time_intervals_to_train:i,0])\n",
        "  y_train.append(scaled_data[i + prediction_interval, 0])"
      ],
      "metadata": {
        "id": "Icl-f-DSudJS"
      },
      "execution_count": null,
      "outputs": []
    },
    {
      "cell_type": "code",
      "source": [
        "x_train =np.array(x_train)\n",
        "y_train =np.array(y_train)"
      ],
      "metadata": {
        "id": "H4ZMqL7bxz9r"
      },
      "execution_count": null,
      "outputs": []
    },
    {
      "cell_type": "code",
      "source": [
        "x_train.shape"
      ],
      "metadata": {
        "colab": {
          "base_uri": "https://localhost:8080/"
        },
        "id": "q5K_ghzayK9h",
        "outputId": "a66d266f-b6f0-44c8-ba85-262971d49104"
      },
      "execution_count": null,
      "outputs": [
        {
          "output_type": "execute_result",
          "data": {
            "text/plain": [
              "(4573, 24)"
            ]
          },
          "metadata": {},
          "execution_count": 8
        }
      ]
    },
    {
      "cell_type": "code",
      "source": [
        "y_train.shape"
      ],
      "metadata": {
        "colab": {
          "base_uri": "https://localhost:8080/"
        },
        "id": "pAvwM4_eySDH",
        "outputId": "125a1910-6050-434e-af35-fd453f80f1d6"
      },
      "execution_count": null,
      "outputs": [
        {
          "output_type": "execute_result",
          "data": {
            "text/plain": [
              "(4573,)"
            ]
          },
          "metadata": {},
          "execution_count": 9
        }
      ]
    },
    {
      "cell_type": "code",
      "source": [
        "x_train = np.reshape(x_train, (x_train.shape[0], x_train.shape[1], 1))"
      ],
      "metadata": {
        "id": "jNk09-2N0Lxw"
      },
      "execution_count": null,
      "outputs": []
    },
    {
      "cell_type": "code",
      "source": [
        "x_train.shape"
      ],
      "metadata": {
        "colab": {
          "base_uri": "https://localhost:8080/"
        },
        "id": "FasZnLqe0gQ5",
        "outputId": "2c056bee-36fe-459d-9544-22107f341b47"
      },
      "execution_count": null,
      "outputs": [
        {
          "output_type": "execute_result",
          "data": {
            "text/plain": [
              "(4573, 24, 1)"
            ]
          },
          "metadata": {},
          "execution_count": 11
        }
      ]
    },
    {
      "cell_type": "code",
      "source": [
        "model = Sequential()\n",
        "model.add(LSTM(128, return_sequences= True, input_shape = (x_train.shape[1],1), activation ='relu'))\n",
        "model.add(Dropout(0.4))\n",
        "model.add(LSTM(64,return_sequences= True, activation='relu'))\n",
        "model.add(Dropout(0.3))\n",
        "model.add(LSTM(32,activation='relu'))\n",
        "model.add(Dropout(0.2))\n",
        "model.add(Dense(1,activation ='sigmoid'))"
      ],
      "metadata": {
        "id": "8CY-yfTF0ioQ",
        "colab": {
          "base_uri": "https://localhost:8080/"
        },
        "outputId": "46e219a9-e1e7-43d5-80e9-c947eb759f78"
      },
      "execution_count": null,
      "outputs": [
        {
          "output_type": "stream",
          "name": "stderr",
          "text": [
            "WARNING:tensorflow:Layer lstm will not use cuDNN kernels since it doesn't meet the criteria. It will use a generic GPU kernel as fallback when running on GPU.\n",
            "WARNING:tensorflow:Layer lstm_1 will not use cuDNN kernels since it doesn't meet the criteria. It will use a generic GPU kernel as fallback when running on GPU.\n",
            "WARNING:tensorflow:Layer lstm_2 will not use cuDNN kernels since it doesn't meet the criteria. It will use a generic GPU kernel as fallback when running on GPU.\n"
          ]
        }
      ]
    },
    {
      "cell_type": "code",
      "source": [
        "model.compile(loss ='mean_squared_error', optimizer='adam', metrics =['accuracy'])"
      ],
      "metadata": {
        "id": "3me84KlD3F4k"
      },
      "execution_count": null,
      "outputs": []
    },
    {
      "cell_type": "code",
      "source": [
        "model.fit(x_train, y_train, epochs=10, batch_size=64)"
      ],
      "metadata": {
        "colab": {
          "base_uri": "https://localhost:8080/"
        },
        "id": "7Ng5SOgB3ZnS",
        "outputId": "3f38787a-fb40-486f-fe03-01e64b7c3949"
      },
      "execution_count": null,
      "outputs": [
        {
          "output_type": "stream",
          "name": "stdout",
          "text": [
            "Epoch 1/10\n",
            "72/72 [==============================] - 20s 88ms/step - loss: 0.0179 - accuracy: 4.3735e-04\n",
            "Epoch 2/10\n",
            "72/72 [==============================] - 8s 114ms/step - loss: 0.0042 - accuracy: 4.3735e-04\n",
            "Epoch 3/10\n",
            "72/72 [==============================] - 7s 95ms/step - loss: 0.0037 - accuracy: 4.3735e-04\n",
            "Epoch 4/10\n",
            "72/72 [==============================] - 8s 106ms/step - loss: 0.0035 - accuracy: 4.3735e-04\n",
            "Epoch 5/10\n",
            "72/72 [==============================] - 8s 109ms/step - loss: 0.0034 - accuracy: 4.3735e-04\n",
            "Epoch 6/10\n",
            "72/72 [==============================] - 6s 90ms/step - loss: 0.0035 - accuracy: 4.3735e-04\n",
            "Epoch 7/10\n",
            "72/72 [==============================] - 8s 109ms/step - loss: 0.0034 - accuracy: 4.3735e-04\n",
            "Epoch 8/10\n",
            "72/72 [==============================] - 6s 87ms/step - loss: 0.0031 - accuracy: 4.3735e-04\n",
            "Epoch 9/10\n",
            "72/72 [==============================] - 9s 124ms/step - loss: 0.0030 - accuracy: 4.3735e-04\n",
            "Epoch 10/10\n",
            "72/72 [==============================] - 6s 88ms/step - loss: 0.0031 - accuracy: 4.3735e-04\n"
          ]
        },
        {
          "output_type": "execute_result",
          "data": {
            "text/plain": [
              "<keras.src.callbacks.History at 0x7ff4a0479090>"
            ]
          },
          "metadata": {},
          "execution_count": 14
        }
      ]
    },
    {
      "cell_type": "code",
      "source": [
        "test_api_url = f'https://api.twelvedata.com/time_series?symbol=BTC/USD&start_date=2024-01-14&end_date=2024-01-16&interval=5min&apikey=demo'\n",
        "test_data = requests.get(test_api_url).json()\n",
        "test_data_final = pd.DataFrame(test_data['values'])\n",
        "test_data_final"
      ],
      "metadata": {
        "colab": {
          "base_uri": "https://localhost:8080/",
          "height": 423
        },
        "id": "WdcNnYQmV49k",
        "outputId": "86d2e0f0-b98c-4e83-8adb-545be9db8c3b"
      },
      "execution_count": null,
      "outputs": [
        {
          "output_type": "execute_result",
          "data": {
            "text/plain": [
              "                datetime         open         high          low        close\n",
              "0    2024-01-16 00:00:00  42481.69000  42535.74000  42454.27000  42490.94000\n",
              "1    2024-01-15 23:55:00  42576.93000  42581.38000  42462.41000  42490.16000\n",
              "2    2024-01-15 23:50:00  42589.35000  42613.06000  42565.19000  42584.20000\n",
              "3    2024-01-15 23:45:00  42534.29000  42615.68000  42526.46000  42591.18000\n",
              "4    2024-01-15 23:40:00  42530.61000  42541.32000  42500.24000  42534.30000\n",
              "..                   ...          ...          ...          ...          ...\n",
              "572  2024-01-14 00:20:00  42802.83000  42822.83000  42769.07000  42770.63000\n",
              "573  2024-01-14 00:15:00  42820.46000  42848.36000  42801.34000  42801.34000\n",
              "574  2024-01-14 00:10:00  42836.74000  42883.62000  42808.96000  42824.98000\n",
              "575  2024-01-14 00:05:00  42815.28000  42878.01000  42796.28000  42835.27000\n",
              "576  2024-01-14 00:00:00  42839.32000  42839.33000  42787.00000  42815.29000\n",
              "\n",
              "[577 rows x 5 columns]"
            ],
            "text/html": [
              "\n",
              "  <div id=\"df-626cc0f2-b74b-45b3-ad88-41f25838e3c0\" class=\"colab-df-container\">\n",
              "    <div>\n",
              "<style scoped>\n",
              "    .dataframe tbody tr th:only-of-type {\n",
              "        vertical-align: middle;\n",
              "    }\n",
              "\n",
              "    .dataframe tbody tr th {\n",
              "        vertical-align: top;\n",
              "    }\n",
              "\n",
              "    .dataframe thead th {\n",
              "        text-align: right;\n",
              "    }\n",
              "</style>\n",
              "<table border=\"1\" class=\"dataframe\">\n",
              "  <thead>\n",
              "    <tr style=\"text-align: right;\">\n",
              "      <th></th>\n",
              "      <th>datetime</th>\n",
              "      <th>open</th>\n",
              "      <th>high</th>\n",
              "      <th>low</th>\n",
              "      <th>close</th>\n",
              "    </tr>\n",
              "  </thead>\n",
              "  <tbody>\n",
              "    <tr>\n",
              "      <th>0</th>\n",
              "      <td>2024-01-16 00:00:00</td>\n",
              "      <td>42481.69000</td>\n",
              "      <td>42535.74000</td>\n",
              "      <td>42454.27000</td>\n",
              "      <td>42490.94000</td>\n",
              "    </tr>\n",
              "    <tr>\n",
              "      <th>1</th>\n",
              "      <td>2024-01-15 23:55:00</td>\n",
              "      <td>42576.93000</td>\n",
              "      <td>42581.38000</td>\n",
              "      <td>42462.41000</td>\n",
              "      <td>42490.16000</td>\n",
              "    </tr>\n",
              "    <tr>\n",
              "      <th>2</th>\n",
              "      <td>2024-01-15 23:50:00</td>\n",
              "      <td>42589.35000</td>\n",
              "      <td>42613.06000</td>\n",
              "      <td>42565.19000</td>\n",
              "      <td>42584.20000</td>\n",
              "    </tr>\n",
              "    <tr>\n",
              "      <th>3</th>\n",
              "      <td>2024-01-15 23:45:00</td>\n",
              "      <td>42534.29000</td>\n",
              "      <td>42615.68000</td>\n",
              "      <td>42526.46000</td>\n",
              "      <td>42591.18000</td>\n",
              "    </tr>\n",
              "    <tr>\n",
              "      <th>4</th>\n",
              "      <td>2024-01-15 23:40:00</td>\n",
              "      <td>42530.61000</td>\n",
              "      <td>42541.32000</td>\n",
              "      <td>42500.24000</td>\n",
              "      <td>42534.30000</td>\n",
              "    </tr>\n",
              "    <tr>\n",
              "      <th>...</th>\n",
              "      <td>...</td>\n",
              "      <td>...</td>\n",
              "      <td>...</td>\n",
              "      <td>...</td>\n",
              "      <td>...</td>\n",
              "    </tr>\n",
              "    <tr>\n",
              "      <th>572</th>\n",
              "      <td>2024-01-14 00:20:00</td>\n",
              "      <td>42802.83000</td>\n",
              "      <td>42822.83000</td>\n",
              "      <td>42769.07000</td>\n",
              "      <td>42770.63000</td>\n",
              "    </tr>\n",
              "    <tr>\n",
              "      <th>573</th>\n",
              "      <td>2024-01-14 00:15:00</td>\n",
              "      <td>42820.46000</td>\n",
              "      <td>42848.36000</td>\n",
              "      <td>42801.34000</td>\n",
              "      <td>42801.34000</td>\n",
              "    </tr>\n",
              "    <tr>\n",
              "      <th>574</th>\n",
              "      <td>2024-01-14 00:10:00</td>\n",
              "      <td>42836.74000</td>\n",
              "      <td>42883.62000</td>\n",
              "      <td>42808.96000</td>\n",
              "      <td>42824.98000</td>\n",
              "    </tr>\n",
              "    <tr>\n",
              "      <th>575</th>\n",
              "      <td>2024-01-14 00:05:00</td>\n",
              "      <td>42815.28000</td>\n",
              "      <td>42878.01000</td>\n",
              "      <td>42796.28000</td>\n",
              "      <td>42835.27000</td>\n",
              "    </tr>\n",
              "    <tr>\n",
              "      <th>576</th>\n",
              "      <td>2024-01-14 00:00:00</td>\n",
              "      <td>42839.32000</td>\n",
              "      <td>42839.33000</td>\n",
              "      <td>42787.00000</td>\n",
              "      <td>42815.29000</td>\n",
              "    </tr>\n",
              "  </tbody>\n",
              "</table>\n",
              "<p>577 rows × 5 columns</p>\n",
              "</div>\n",
              "    <div class=\"colab-df-buttons\">\n",
              "\n",
              "  <div class=\"colab-df-container\">\n",
              "    <button class=\"colab-df-convert\" onclick=\"convertToInteractive('df-626cc0f2-b74b-45b3-ad88-41f25838e3c0')\"\n",
              "            title=\"Convert this dataframe to an interactive table.\"\n",
              "            style=\"display:none;\">\n",
              "\n",
              "  <svg xmlns=\"http://www.w3.org/2000/svg\" height=\"24px\" viewBox=\"0 -960 960 960\">\n",
              "    <path d=\"M120-120v-720h720v720H120Zm60-500h600v-160H180v160Zm220 220h160v-160H400v160Zm0 220h160v-160H400v160ZM180-400h160v-160H180v160Zm440 0h160v-160H620v160ZM180-180h160v-160H180v160Zm440 0h160v-160H620v160Z\"/>\n",
              "  </svg>\n",
              "    </button>\n",
              "\n",
              "  <style>\n",
              "    .colab-df-container {\n",
              "      display:flex;\n",
              "      gap: 12px;\n",
              "    }\n",
              "\n",
              "    .colab-df-convert {\n",
              "      background-color: #E8F0FE;\n",
              "      border: none;\n",
              "      border-radius: 50%;\n",
              "      cursor: pointer;\n",
              "      display: none;\n",
              "      fill: #1967D2;\n",
              "      height: 32px;\n",
              "      padding: 0 0 0 0;\n",
              "      width: 32px;\n",
              "    }\n",
              "\n",
              "    .colab-df-convert:hover {\n",
              "      background-color: #E2EBFA;\n",
              "      box-shadow: 0px 1px 2px rgba(60, 64, 67, 0.3), 0px 1px 3px 1px rgba(60, 64, 67, 0.15);\n",
              "      fill: #174EA6;\n",
              "    }\n",
              "\n",
              "    .colab-df-buttons div {\n",
              "      margin-bottom: 4px;\n",
              "    }\n",
              "\n",
              "    [theme=dark] .colab-df-convert {\n",
              "      background-color: #3B4455;\n",
              "      fill: #D2E3FC;\n",
              "    }\n",
              "\n",
              "    [theme=dark] .colab-df-convert:hover {\n",
              "      background-color: #434B5C;\n",
              "      box-shadow: 0px 1px 3px 1px rgba(0, 0, 0, 0.15);\n",
              "      filter: drop-shadow(0px 1px 2px rgba(0, 0, 0, 0.3));\n",
              "      fill: #FFFFFF;\n",
              "    }\n",
              "  </style>\n",
              "\n",
              "    <script>\n",
              "      const buttonEl =\n",
              "        document.querySelector('#df-626cc0f2-b74b-45b3-ad88-41f25838e3c0 button.colab-df-convert');\n",
              "      buttonEl.style.display =\n",
              "        google.colab.kernel.accessAllowed ? 'block' : 'none';\n",
              "\n",
              "      async function convertToInteractive(key) {\n",
              "        const element = document.querySelector('#df-626cc0f2-b74b-45b3-ad88-41f25838e3c0');\n",
              "        const dataTable =\n",
              "          await google.colab.kernel.invokeFunction('convertToInteractive',\n",
              "                                                    [key], {});\n",
              "        if (!dataTable) return;\n",
              "\n",
              "        const docLinkHtml = 'Like what you see? Visit the ' +\n",
              "          '<a target=\"_blank\" href=https://colab.research.google.com/notebooks/data_table.ipynb>data table notebook</a>'\n",
              "          + ' to learn more about interactive tables.';\n",
              "        element.innerHTML = '';\n",
              "        dataTable['output_type'] = 'display_data';\n",
              "        await google.colab.output.renderOutput(dataTable, element);\n",
              "        const docLink = document.createElement('div');\n",
              "        docLink.innerHTML = docLinkHtml;\n",
              "        element.appendChild(docLink);\n",
              "      }\n",
              "    </script>\n",
              "  </div>\n",
              "\n",
              "\n",
              "<div id=\"df-692aa122-6130-4b26-9b72-e1d1cccea468\">\n",
              "  <button class=\"colab-df-quickchart\" onclick=\"quickchart('df-692aa122-6130-4b26-9b72-e1d1cccea468')\"\n",
              "            title=\"Suggest charts\"\n",
              "            style=\"display:none;\">\n",
              "\n",
              "<svg xmlns=\"http://www.w3.org/2000/svg\" height=\"24px\"viewBox=\"0 0 24 24\"\n",
              "     width=\"24px\">\n",
              "    <g>\n",
              "        <path d=\"M19 3H5c-1.1 0-2 .9-2 2v14c0 1.1.9 2 2 2h14c1.1 0 2-.9 2-2V5c0-1.1-.9-2-2-2zM9 17H7v-7h2v7zm4 0h-2V7h2v10zm4 0h-2v-4h2v4z\"/>\n",
              "    </g>\n",
              "</svg>\n",
              "  </button>\n",
              "\n",
              "<style>\n",
              "  .colab-df-quickchart {\n",
              "      --bg-color: #E8F0FE;\n",
              "      --fill-color: #1967D2;\n",
              "      --hover-bg-color: #E2EBFA;\n",
              "      --hover-fill-color: #174EA6;\n",
              "      --disabled-fill-color: #AAA;\n",
              "      --disabled-bg-color: #DDD;\n",
              "  }\n",
              "\n",
              "  [theme=dark] .colab-df-quickchart {\n",
              "      --bg-color: #3B4455;\n",
              "      --fill-color: #D2E3FC;\n",
              "      --hover-bg-color: #434B5C;\n",
              "      --hover-fill-color: #FFFFFF;\n",
              "      --disabled-bg-color: #3B4455;\n",
              "      --disabled-fill-color: #666;\n",
              "  }\n",
              "\n",
              "  .colab-df-quickchart {\n",
              "    background-color: var(--bg-color);\n",
              "    border: none;\n",
              "    border-radius: 50%;\n",
              "    cursor: pointer;\n",
              "    display: none;\n",
              "    fill: var(--fill-color);\n",
              "    height: 32px;\n",
              "    padding: 0;\n",
              "    width: 32px;\n",
              "  }\n",
              "\n",
              "  .colab-df-quickchart:hover {\n",
              "    background-color: var(--hover-bg-color);\n",
              "    box-shadow: 0 1px 2px rgba(60, 64, 67, 0.3), 0 1px 3px 1px rgba(60, 64, 67, 0.15);\n",
              "    fill: var(--button-hover-fill-color);\n",
              "  }\n",
              "\n",
              "  .colab-df-quickchart-complete:disabled,\n",
              "  .colab-df-quickchart-complete:disabled:hover {\n",
              "    background-color: var(--disabled-bg-color);\n",
              "    fill: var(--disabled-fill-color);\n",
              "    box-shadow: none;\n",
              "  }\n",
              "\n",
              "  .colab-df-spinner {\n",
              "    border: 2px solid var(--fill-color);\n",
              "    border-color: transparent;\n",
              "    border-bottom-color: var(--fill-color);\n",
              "    animation:\n",
              "      spin 1s steps(1) infinite;\n",
              "  }\n",
              "\n",
              "  @keyframes spin {\n",
              "    0% {\n",
              "      border-color: transparent;\n",
              "      border-bottom-color: var(--fill-color);\n",
              "      border-left-color: var(--fill-color);\n",
              "    }\n",
              "    20% {\n",
              "      border-color: transparent;\n",
              "      border-left-color: var(--fill-color);\n",
              "      border-top-color: var(--fill-color);\n",
              "    }\n",
              "    30% {\n",
              "      border-color: transparent;\n",
              "      border-left-color: var(--fill-color);\n",
              "      border-top-color: var(--fill-color);\n",
              "      border-right-color: var(--fill-color);\n",
              "    }\n",
              "    40% {\n",
              "      border-color: transparent;\n",
              "      border-right-color: var(--fill-color);\n",
              "      border-top-color: var(--fill-color);\n",
              "    }\n",
              "    60% {\n",
              "      border-color: transparent;\n",
              "      border-right-color: var(--fill-color);\n",
              "    }\n",
              "    80% {\n",
              "      border-color: transparent;\n",
              "      border-right-color: var(--fill-color);\n",
              "      border-bottom-color: var(--fill-color);\n",
              "    }\n",
              "    90% {\n",
              "      border-color: transparent;\n",
              "      border-bottom-color: var(--fill-color);\n",
              "    }\n",
              "  }\n",
              "</style>\n",
              "\n",
              "  <script>\n",
              "    async function quickchart(key) {\n",
              "      const quickchartButtonEl =\n",
              "        document.querySelector('#' + key + ' button');\n",
              "      quickchartButtonEl.disabled = true;  // To prevent multiple clicks.\n",
              "      quickchartButtonEl.classList.add('colab-df-spinner');\n",
              "      try {\n",
              "        const charts = await google.colab.kernel.invokeFunction(\n",
              "            'suggestCharts', [key], {});\n",
              "      } catch (error) {\n",
              "        console.error('Error during call to suggestCharts:', error);\n",
              "      }\n",
              "      quickchartButtonEl.classList.remove('colab-df-spinner');\n",
              "      quickchartButtonEl.classList.add('colab-df-quickchart-complete');\n",
              "    }\n",
              "    (() => {\n",
              "      let quickchartButtonEl =\n",
              "        document.querySelector('#df-692aa122-6130-4b26-9b72-e1d1cccea468 button');\n",
              "      quickchartButtonEl.style.display =\n",
              "        google.colab.kernel.accessAllowed ? 'block' : 'none';\n",
              "    })();\n",
              "  </script>\n",
              "</div>\n",
              "    </div>\n",
              "  </div>\n"
            ],
            "application/vnd.google.colaboratory.intrinsic+json": {
              "type": "dataframe",
              "variable_name": "test_data_final",
              "summary": "{\n  \"name\": \"test_data_final\",\n  \"rows\": 577,\n  \"fields\": [\n    {\n      \"column\": \"datetime\",\n      \"properties\": {\n        \"dtype\": \"object\",\n        \"num_unique_values\": 577,\n        \"samples\": [\n          \"2024-01-15 14:10:00\",\n          \"2024-01-14 15:15:00\",\n          \"2024-01-14 05:10:00\"\n        ],\n        \"semantic_type\": \"\",\n        \"description\": \"\"\n      }\n    },\n    {\n      \"column\": \"open\",\n      \"properties\": {\n        \"dtype\": \"string\",\n        \"num_unique_values\": 577,\n        \"samples\": [\n          \"42602.25000\",\n          \"42808.00000\",\n          \"42665.26000\"\n        ],\n        \"semantic_type\": \"\",\n        \"description\": \"\"\n      }\n    },\n    {\n      \"column\": \"high\",\n      \"properties\": {\n        \"dtype\": \"string\",\n        \"num_unique_values\": 570,\n        \"samples\": [\n          \"42730.64000\",\n          \"42756.03000\",\n          \"42675.22000\"\n        ],\n        \"semantic_type\": \"\",\n        \"description\": \"\"\n      }\n    },\n    {\n      \"column\": \"low\",\n      \"properties\": {\n        \"dtype\": \"string\",\n        \"num_unique_values\": 569,\n        \"samples\": [\n          \"42617.69000\",\n          \"42677.77000\",\n          \"42595.19000\"\n        ],\n        \"semantic_type\": \"\",\n        \"description\": \"\"\n      }\n    },\n    {\n      \"column\": \"close\",\n      \"properties\": {\n        \"dtype\": \"string\",\n        \"num_unique_values\": 577,\n        \"samples\": [\n          \"42612.22000\",\n          \"42791.94000\",\n          \"42658.68000\"\n        ],\n        \"semantic_type\": \"\",\n        \"description\": \"\"\n      }\n    }\n  ]\n}"
            }
          },
          "metadata": {},
          "execution_count": 15
        }
      ]
    },
    {
      "cell_type": "code",
      "source": [
        "bitcoin_prices = pd.to_numeric(test_data_final['close'],errors = 'coerce').values"
      ],
      "metadata": {
        "id": "BeI6-Ni3hQAL"
      },
      "execution_count": null,
      "outputs": []
    },
    {
      "cell_type": "code",
      "source": [
        "test_inputs = test_data_final['close'].values\n",
        "test_inputs = test_inputs.reshape(-1,1)\n",
        "model_inputs = scaler.fit_transform(test_inputs)"
      ],
      "metadata": {
        "id": "ZPUkedWZa4t7"
      },
      "execution_count": null,
      "outputs": []
    },
    {
      "cell_type": "code",
      "source": [
        "model_inputs.shape"
      ],
      "metadata": {
        "colab": {
          "base_uri": "https://localhost:8080/"
        },
        "id": "bnAZmuUNhiTU",
        "outputId": "9727b52b-fa5a-494c-90a3-63a83844c158"
      },
      "execution_count": null,
      "outputs": [
        {
          "output_type": "execute_result",
          "data": {
            "text/plain": [
              "(577, 1)"
            ]
          },
          "metadata": {},
          "execution_count": 18
        }
      ]
    },
    {
      "cell_type": "code",
      "source": [
        "x_test =[]\n",
        "\n",
        "for x in range(time_intervals_to_train, len(model_inputs)):\n",
        "  x_test.append(model_inputs[x-time_intervals_to_train:x, 0])\n",
        "\n",
        "x_test = np.array(x_test)\n",
        "x_test = np.reshape(x_test, (x_test.shape[0], x_test.shape[1],1))"
      ],
      "metadata": {
        "id": "CwE27AAXbVc_"
      },
      "execution_count": null,
      "outputs": []
    },
    {
      "cell_type": "code",
      "source": [
        "x_test"
      ],
      "metadata": {
        "colab": {
          "base_uri": "https://localhost:8080/"
        },
        "id": "1p52qHOlgYCg",
        "outputId": "75471c58-43c3-4849-8489-43745eff7dff"
      },
      "execution_count": null,
      "outputs": [
        {
          "output_type": "execute_result",
          "data": {
            "text/plain": [
              "array([[[0.49683534],\n",
              "        [0.49634703],\n",
              "        [0.55522027],\n",
              "        ...,\n",
              "        [0.46576474],\n",
              "        [0.4771525 ],\n",
              "        [0.56850494]],\n",
              "\n",
              "       [[0.49634703],\n",
              "        [0.55522027],\n",
              "        [0.55959007],\n",
              "        ...,\n",
              "        [0.4771525 ],\n",
              "        [0.56850494],\n",
              "        [0.616629  ]],\n",
              "\n",
              "       [[0.55522027],\n",
              "        [0.55959007],\n",
              "        [0.52398064],\n",
              "        ...,\n",
              "        [0.56850494],\n",
              "        [0.616629  ],\n",
              "        [0.61838819]],\n",
              "\n",
              "       ...,\n",
              "\n",
              "       [[0.64672297],\n",
              "        [0.64310443],\n",
              "        [0.66742627],\n",
              "        ...,\n",
              "        [0.65181271],\n",
              "        [0.67193379],\n",
              "        [0.69115962]],\n",
              "\n",
              "       [[0.64310443],\n",
              "        [0.66742627],\n",
              "        [0.66842168],\n",
              "        ...,\n",
              "        [0.67193379],\n",
              "        [0.69115962],\n",
              "        [0.70595932]],\n",
              "\n",
              "       [[0.66742627],\n",
              "        [0.66842168],\n",
              "        [0.67963414],\n",
              "        ...,\n",
              "        [0.69115962],\n",
              "        [0.70595932],\n",
              "        [0.71240132]]])"
            ]
          },
          "metadata": {},
          "execution_count": 20
        }
      ]
    },
    {
      "cell_type": "code",
      "source": [
        "prediction_prices = model.predict(x_test)\n",
        "prediction_prices = scaler.inverse_transform(prediction_prices)"
      ],
      "metadata": {
        "colab": {
          "base_uri": "https://localhost:8080/"
        },
        "id": "4hgpCJ2idPxD",
        "outputId": "ada6a248-277e-422b-b13a-4030cdfec815"
      },
      "execution_count": null,
      "outputs": [
        {
          "output_type": "stream",
          "name": "stdout",
          "text": [
            "18/18 [==============================] - 1s 14ms/step\n"
          ]
        }
      ]
    },
    {
      "cell_type": "code",
      "source": [
        "plt.plot(bitcoin_prices, label ='Bitcoin_Prices')\n",
        "plt.plot(prediction_prices, label='Predicted Prices')\n",
        "plt.title('Predicting Bitcoin Prices')\n",
        "plt.xlabel('5min Time Interval')\n",
        "plt.ylabel('Prices')\n",
        "plt.legend()\n",
        "plt.show()"
      ],
      "metadata": {
        "colab": {
          "base_uri": "https://localhost:8080/",
          "height": 472
        },
        "id": "s5QqpVwejyXD",
        "outputId": "bda2768a-0528-49e4-9c5c-d3883c8a733e"
      },
      "execution_count": null,
      "outputs": [
        {
          "output_type": "display_data",
          "data": {
            "text/plain": [
              "<Figure size 640x480 with 1 Axes>"
            ],
            "image/png": "[encoded data removed]"
          },
          "metadata": {}
        }
      ]
    },
    {
      "cell_type": "code",
      "source": [
        "last_data = model_inputs[len(model_inputs)+1 - time_intervals_to_train : len(model_inputs) +1,0]\n",
        "last_data = np.array(last_data)"
      ],
      "metadata": {
        "id": "hDoDoOflphVc"
      },
      "execution_count": null,
      "outputs": []
    },
    {
      "cell_type": "code",
      "source": [
        "last_data.shape"
      ],
      "metadata": {
        "colab": {
          "base_uri": "https://localhost:8080/"
        },
        "id": "9p0d7er9p98C",
        "outputId": "b7df9976-081b-4f74-caea-6635bef2dbf0"
      },
      "execution_count": null,
      "outputs": [
        {
          "output_type": "execute_result",
          "data": {
            "text/plain": [
              "(23,)"
            ]
          },
          "metadata": {},
          "execution_count": 24
        }
      ]
    },
    {
      "cell_type": "code",
      "source": [
        "last_data = np.reshape(last_data,(1, last_data.shape[0],1))"
      ],
      "metadata": {
        "id": "d--pd_sBqCI8"
      },
      "execution_count": null,
      "outputs": []
    },
    {
      "cell_type": "code",
      "source": [
        "prediction= model.predict(last_data)"
      ],
      "metadata": {
        "colab": {
          "base_uri": "https://localhost:8080/"
        },
        "id": "RGm4ZU9sqdfd",
        "outputId": "1273ed61-6379-4446-9f4c-dd88b396f0ee"
      },
      "execution_count": null,
      "outputs": [
        {
          "output_type": "stream",
          "name": "stdout",
          "text": [
            "1/1 [==============================] - 0s 371ms/step\n"
          ]
        }
      ]
    },
    {
      "cell_type": "code",
      "source": [
        "prediction = scaler.inverse_transform(prediction)"
      ],
      "metadata": {
        "id": "intA2hVJq4Q7"
      },
      "execution_count": null,
      "outputs": []
    },
    {
      "cell_type": "code",
      "source": [
        "prediction"
      ],
      "metadata": {
        "colab": {
          "base_uri": "https://localhost:8080/"
        },
        "id": "0xu2gEg3q-8a",
        "outputId": "a96a369f-b6ac-4376-db1d-835f769d603e"
      },
      "execution_count": null,
      "outputs": [
        {
          "output_type": "execute_result",
          "data": {
            "text/plain": [
              "array([[42744.668]], dtype=float32)"
            ]
          },
          "metadata": {},
          "execution_count": 28
        }
      ]
    }
  ]
}